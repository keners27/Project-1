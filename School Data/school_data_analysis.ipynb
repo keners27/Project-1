{
 "cells": [
  {
   "cell_type": "code",
   "execution_count": 1,
   "metadata": {},
   "outputs": [],
   "source": [
    "# Dependencies and Setup\n",
    "import pandas as pd\n",
    "import matplotlib.pyplot as plt"
   ]
  },
  {
   "cell_type": "code",
   "execution_count": 25,
   "metadata": {
    "scrolled": true
   },
   "outputs": [
    {
     "data": {
      "text/html": [
       "<div>\n",
       "<style scoped>\n",
       "    .dataframe tbody tr th:only-of-type {\n",
       "        vertical-align: middle;\n",
       "    }\n",
       "\n",
       "    .dataframe tbody tr th {\n",
       "        vertical-align: top;\n",
       "    }\n",
       "\n",
       "    .dataframe thead th {\n",
       "        text-align: right;\n",
       "    }\n",
       "</style>\n",
       "<table border=\"1\" class=\"dataframe\">\n",
       "  <thead>\n",
       "    <tr style=\"text-align: right;\">\n",
       "      <th></th>\n",
       "      <th>Calendar Year</th>\n",
       "      <th>ACT</th>\n",
       "      <th>WA</th>\n",
       "      <th>NSW</th>\n",
       "      <th>VIC</th>\n",
       "      <th>QLD</th>\n",
       "      <th>NT</th>\n",
       "      <th>SA</th>\n",
       "      <th>TAS</th>\n",
       "    </tr>\n",
       "  </thead>\n",
       "  <tbody>\n",
       "    <tr>\n",
       "      <th>0</th>\n",
       "      <td>2015</td>\n",
       "      <td>1082.347826</td>\n",
       "      <td>1000.479787</td>\n",
       "      <td>1004.294781</td>\n",
       "      <td>1025.642857</td>\n",
       "      <td>992.831970</td>\n",
       "      <td>789.650685</td>\n",
       "      <td>1001.250382</td>\n",
       "      <td>968.164557</td>\n",
       "    </tr>\n",
       "    <tr>\n",
       "      <th>1</th>\n",
       "      <td>2016</td>\n",
       "      <td>1081.810345</td>\n",
       "      <td>1004.491043</td>\n",
       "      <td>1003.667955</td>\n",
       "      <td>1025.428783</td>\n",
       "      <td>992.603998</td>\n",
       "      <td>774.331288</td>\n",
       "      <td>1003.517611</td>\n",
       "      <td>970.707113</td>\n",
       "    </tr>\n",
       "    <tr>\n",
       "      <th>2</th>\n",
       "      <td>2017</td>\n",
       "      <td>1081.147826</td>\n",
       "      <td>1002.270355</td>\n",
       "      <td>1002.713786</td>\n",
       "      <td>1026.273216</td>\n",
       "      <td>992.360075</td>\n",
       "      <td>770.167665</td>\n",
       "      <td>1004.456355</td>\n",
       "      <td>969.440329</td>\n",
       "    </tr>\n",
       "    <tr>\n",
       "      <th>3</th>\n",
       "      <td>2018</td>\n",
       "      <td>1081.070866</td>\n",
       "      <td>1001.484296</td>\n",
       "      <td>1002.168956</td>\n",
       "      <td>1027.916746</td>\n",
       "      <td>991.739104</td>\n",
       "      <td>775.854651</td>\n",
       "      <td>1001.895210</td>\n",
       "      <td>969.115538</td>\n",
       "    </tr>\n",
       "    <tr>\n",
       "      <th>4</th>\n",
       "      <td>2019</td>\n",
       "      <td>1080.286822</td>\n",
       "      <td>1003.803427</td>\n",
       "      <td>1004.803633</td>\n",
       "      <td>1029.834047</td>\n",
       "      <td>992.540293</td>\n",
       "      <td>782.779661</td>\n",
       "      <td>1004.947917</td>\n",
       "      <td>972.171315</td>\n",
       "    </tr>\n",
       "    <tr>\n",
       "      <th>5</th>\n",
       "      <td>2020</td>\n",
       "      <td>1077.753846</td>\n",
       "      <td>1005.246740</td>\n",
       "      <td>1005.449642</td>\n",
       "      <td>1031.053302</td>\n",
       "      <td>992.551787</td>\n",
       "      <td>781.692737</td>\n",
       "      <td>1004.943704</td>\n",
       "      <td>971.703557</td>\n",
       "    </tr>\n",
       "  </tbody>\n",
       "</table>\n",
       "</div>"
      ],
      "text/plain": [
       "   Calendar Year          ACT           WA          NSW          VIC  \\\n",
       "0           2015  1082.347826  1000.479787  1004.294781  1025.642857   \n",
       "1           2016  1081.810345  1004.491043  1003.667955  1025.428783   \n",
       "2           2017  1081.147826  1002.270355  1002.713786  1026.273216   \n",
       "3           2018  1081.070866  1001.484296  1002.168956  1027.916746   \n",
       "4           2019  1080.286822  1003.803427  1004.803633  1029.834047   \n",
       "5           2020  1077.753846  1005.246740  1005.449642  1031.053302   \n",
       "\n",
       "          QLD          NT           SA         TAS  \n",
       "0  992.831970  789.650685  1001.250382  968.164557  \n",
       "1  992.603998  774.331288  1003.517611  970.707113  \n",
       "2  992.360075  770.167665  1004.456355  969.440329  \n",
       "3  991.739104  775.854651  1001.895210  969.115538  \n",
       "4  992.540293  782.779661  1004.947917  972.171315  \n",
       "5  992.551787  781.692737  1004.943704  971.703557  "
      ]
     },
     "execution_count": 25,
     "metadata": {},
     "output_type": "execute_result"
    }
   ],
   "source": [
    "# Load csv with clean data\n",
    "school_data= pd.read_csv('summary_ICSEA_data.csv')\n",
    "school_data"
   ]
  },
  {
   "cell_type": "code",
   "execution_count": 5,
   "metadata": {},
   "outputs": [],
   "source": [
    "# Extract data for plotting\n",
    "years=school_data[\"Calendar Year\"]\n",
    "ACT=school_data[\"ACT\"]\n",
    "WA=school_data[\"WA\"]\n",
    "NSW=school_data[\"NSW\"]\n",
    "VIC=school_data[\"VIC\"]\n",
    "QLD=school_data[\"QLD\"]\n",
    "NT=school_data[\"NT\"]\n",
    "SA=school_data[\"SA\"]\n",
    "TAS=school_data[\"TAS\"]"
   ]
  },
  {
   "cell_type": "code",
   "execution_count": 6,
   "metadata": {
    "scrolled": true
   },
   "outputs": [
    {
     "data": {
      "image/png": "[encoded data removed]",
      "text/plain": [
       "<Figure size 432x288 with 1 Axes>"
      ]
     },
     "metadata": {
      "needs_background": "light"
     },
     "output_type": "display_data"
    }
   ],
   "source": [
    "# Plat the various lines\n",
    "plt.plot(years,ACT, label=\"ACT\")\n",
    "plt.plot(years,WA, label=\"WA\")\n",
    "plt.plot(years,NSW, label=\"NSW\")\n",
    "plt.plot(years,VIC, label=\"VIC\")\n",
    "plt.plot(years,QLD, label=\"QLD\")\n",
    "plt.plot(years,SA, label=\"SA\")\n",
    "plt.plot(years,TAS, label=\"TAS\")\n",
    "plt.title(\"Average Trend of ICSEA per State (excl. NT)\")\n",
    "plt.xlabel(\"Years\")\n",
    "plt.ylabel(\"Average ICSEA\")\n",
    "plt.legend(loc=2)\n",
    "plt.show()"
   ]
  },
  {
   "cell_type": "code",
   "execution_count": 28,
   "metadata": {},
   "outputs": [
    {
     "ename": "KeyError",
     "evalue": "\"None of ['Calendar Year'] are in the columns\"",
     "output_type": "error",
     "traceback": [
      "\u001b[1;31m---------------------------------------------------------------------------\u001b[0m",
      "\u001b[1;31mKeyError\u001b[0m                                  Traceback (most recent call last)",
      "Input \u001b[1;32mIn [28]\u001b[0m, in \u001b[0;36m<cell line: 1>\u001b[1;34m()\u001b[0m\n\u001b[1;32m----> 1\u001b[0m school_data \u001b[38;5;241m=\u001b[39m \u001b[43mschool_data\u001b[49m\u001b[38;5;241;43m.\u001b[39;49m\u001b[43mset_index\u001b[49m\u001b[43m(\u001b[49m\u001b[43m[\u001b[49m\u001b[38;5;124;43m\"\u001b[39;49m\u001b[38;5;124;43mCalendar Year\u001b[39;49m\u001b[38;5;124;43m\"\u001b[39;49m\u001b[43m]\u001b[49m\u001b[43m)\u001b[49m\n\u001b[0;32m      2\u001b[0m school_data \u001b[38;5;241m=\u001b[39m school_data\u001b[38;5;241m.\u001b[39mtranspose()\n\u001b[0;32m      4\u001b[0m \u001b[38;5;66;03m#school_data = school_data[[\"2018\",\"2019\",\"2020\"]]\u001b[39;00m\n",
      "File \u001b[1;32mC:\\anaconda\\lib\\site-packages\\pandas\\util\\_decorators.py:311\u001b[0m, in \u001b[0;36mdeprecate_nonkeyword_arguments.<locals>.decorate.<locals>.wrapper\u001b[1;34m(*args, **kwargs)\u001b[0m\n\u001b[0;32m    305\u001b[0m \u001b[38;5;28;01mif\u001b[39;00m \u001b[38;5;28mlen\u001b[39m(args) \u001b[38;5;241m>\u001b[39m num_allow_args:\n\u001b[0;32m    306\u001b[0m     warnings\u001b[38;5;241m.\u001b[39mwarn(\n\u001b[0;32m    307\u001b[0m         msg\u001b[38;5;241m.\u001b[39mformat(arguments\u001b[38;5;241m=\u001b[39marguments),\n\u001b[0;32m    308\u001b[0m         \u001b[38;5;167;01mFutureWarning\u001b[39;00m,\n\u001b[0;32m    309\u001b[0m         stacklevel\u001b[38;5;241m=\u001b[39mstacklevel,\n\u001b[0;32m    310\u001b[0m     )\n\u001b[1;32m--> 311\u001b[0m \u001b[38;5;28;01mreturn\u001b[39;00m func(\u001b[38;5;241m*\u001b[39margs, \u001b[38;5;241m*\u001b[39m\u001b[38;5;241m*\u001b[39mkwargs)\n",
      "File \u001b[1;32mC:\\anaconda\\lib\\site-packages\\pandas\\core\\frame.py:5494\u001b[0m, in \u001b[0;36mDataFrame.set_index\u001b[1;34m(self, keys, drop, append, inplace, verify_integrity)\u001b[0m\n\u001b[0;32m   5491\u001b[0m                 missing\u001b[38;5;241m.\u001b[39mappend(col)\n\u001b[0;32m   5493\u001b[0m \u001b[38;5;28;01mif\u001b[39;00m missing:\n\u001b[1;32m-> 5494\u001b[0m     \u001b[38;5;28;01mraise\u001b[39;00m \u001b[38;5;167;01mKeyError\u001b[39;00m(\u001b[38;5;124mf\u001b[39m\u001b[38;5;124m\"\u001b[39m\u001b[38;5;124mNone of \u001b[39m\u001b[38;5;132;01m{\u001b[39;00mmissing\u001b[38;5;132;01m}\u001b[39;00m\u001b[38;5;124m are in the columns\u001b[39m\u001b[38;5;124m\"\u001b[39m)\n\u001b[0;32m   5496\u001b[0m \u001b[38;5;28;01mif\u001b[39;00m inplace:\n\u001b[0;32m   5497\u001b[0m     frame \u001b[38;5;241m=\u001b[39m \u001b[38;5;28mself\u001b[39m\n",
      "\u001b[1;31mKeyError\u001b[0m: \"None of ['Calendar Year'] are in the columns\""
     ]
    }
   ],
   "source": [
    "school_data = school_data.set_index([\"Calendar Year\"])\n",
    "school_data = school_data.transpose()\n",
    "\n",
    "#school_data = school_data[[\"2018\",\"2019\",\"2020\"]]\n",
    "school_data"
   ]
  },
  {
   "cell_type": "code",
   "execution_count": 21,
   "metadata": {},
   "outputs": [
    {
     "data": {
      "image/png": "[encoded data removed]",
      "text/plain": [
       "<Figure size 432x288 with 1 Axes>"
      ]
     },
     "metadata": {
      "needs_background": "light"
     },
     "output_type": "display_data"
    }
   ],
   "source": [
    "#Plot the data\n",
    "school_data.plot.bar(ylim=(700,1100),rot=50, title=\"Test\");"
   ]
  },
  {
   "cell_type": "code",
   "execution_count": null,
   "metadata": {},
   "outputs": [],
   "source": [
    "# Load CSV\n",
    "class_data= pd.read_csv('summary_class_data.csv')\n",
    "class_data"
   ]
  },
  {
   "cell_type": "code",
   "execution_count": null,
   "metadata": {},
   "outputs": [],
   "source": [
    "# Extract data for plotting\n",
    "years=class_data[\"Calendar Year\"]\n",
    "ACT=class_data[\"ACT\"]\n",
    "WA=class_data[\"WA\"]\n",
    "NSW=class_data[\"NSW\"]\n",
    "VIC=class_data[\"VIC\"]\n",
    "QLD=class_data[\"QLD\"]\n",
    "NT=class_data[\"NT\"]\n",
    "SA=class_data[\"SA\"]\n",
    "TAS=class_data[\"TAS\"]"
   ]
  },
  {
   "cell_type": "code",
   "execution_count": null,
   "metadata": {},
   "outputs": [],
   "source": [
    "# Plat the various lines\n",
    "plt.plot(years,ACT, label=\"ACT\")\n",
    "plt.plot(years,WA, label=\"WA\")\n",
    "plt.plot(years,NSW, label=\"NSW\")\n",
    "plt.plot(years,VIC, label=\"VIC\")\n",
    "plt.plot(years,QLD, label=\"QLD\")\n",
    "plt.plot(years,SA, label=\"SA\")\n",
    "plt.plot(years,TAS, label=\"TAS\")\n",
    "plt.title(\"Average Trend of Class Size per State\")\n",
    "plt.xlabel(\"Years\")\n",
    "plt.ylabel(\"Average Class Size\")\n",
    "plt.legend()\n",
    "plt.show()"
   ]
  },
  {
   "cell_type": "code",
   "execution_count": null,
   "metadata": {},
   "outputs": [],
   "source": []
  }
 ],
 "metadata": {
  "kernelspec": {
   "display_name": "Python 3 (ipykernel)",
   "language": "python",
   "name": "python3"
  },
  "language_info": {
   "codemirror_mode": {
    "name": "ipython",
    "version": 3
   },
   "file_extension": ".py",
   "mimetype": "text/x-python",
   "name": "python",
   "nbconvert_exporter": "python",
   "pygments_lexer": "ipython3",
   "version": "3.9.12"
  },
  "vscode": {
   "interpreter": {
    "hash": "f01aa37f660c0a79cd7a3e52f7ed62181b66bd7f22d87d0abea689177076e8bc"
   }
  }
 },
 "nbformat": 4,
 "nbformat_minor": 2
}
